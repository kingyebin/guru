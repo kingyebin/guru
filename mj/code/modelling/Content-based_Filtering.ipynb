{
 "cells": [
  {
   "cell_type": "markdown",
   "metadata": {},
   "source": [
    "# 내용 기반 필터링(Content-based Filtering)\n",
    "- description, genre, tags, theme 등을 사용하여 유사한 게임을 추천한다.\n",
    "- TF-IDF, Word2Vec, BERT와 같은 텍스트 임베딩을 사용하여 게임 설명을 벡터화하고 유사도를 계산한다."
   ]
  },
  {
   "cell_type": "markdown",
   "metadata": {},
   "source": [
    "## 데이터 준비 및 전처리"
   ]
  },
  {
   "cell_type": "code",
   "execution_count": 1,
   "metadata": {},
   "outputs": [],
   "source": [
    "import pandas as pd\n",
    "from sklearn.feature_extraction.text import TfidfVectorizer\n",
    "from sklearn.metrics.pairwise import linear_kernel\n",
    "from sklearn.decomposition import TruncatedSVD"
   ]
  },
  {
   "cell_type": "markdown",
   "metadata": {},
   "source": [
    "### 데이터 로드"
   ]
  },
  {
   "cell_type": "code",
   "execution_count": 2,
   "metadata": {},
   "outputs": [
    {
     "data": {
      "text/html": [
       "<div>\n",
       "<style scoped>\n",
       "    .dataframe tbody tr th:only-of-type {\n",
       "        vertical-align: middle;\n",
       "    }\n",
       "\n",
       "    .dataframe tbody tr th {\n",
       "        vertical-align: top;\n",
       "    }\n",
       "\n",
       "    .dataframe thead th {\n",
       "        text-align: right;\n",
       "    }\n",
       "</style>\n",
       "<table border=\"1\" class=\"dataframe\">\n",
       "  <thead>\n",
       "    <tr style=\"text-align: right;\">\n",
       "      <th></th>\n",
       "      <th>id</th>\n",
       "      <th>slug</th>\n",
       "      <th>name</th>\n",
       "      <th>description</th>\n",
       "      <th>released</th>\n",
       "      <th>status</th>\n",
       "      <th>tba</th>\n",
       "      <th>background_image</th>\n",
       "      <th>website</th>\n",
       "      <th>rating</th>\n",
       "      <th>...</th>\n",
       "      <th>tags</th>\n",
       "      <th>mode</th>\n",
       "      <th>developers</th>\n",
       "      <th>requirements</th>\n",
       "      <th>added_status_yet</th>\n",
       "      <th>added_status_owned</th>\n",
       "      <th>added_status_beaten</th>\n",
       "      <th>added_status_toplay</th>\n",
       "      <th>added_status_dropped</th>\n",
       "      <th>added_status_playing</th>\n",
       "    </tr>\n",
       "  </thead>\n",
       "  <tbody>\n",
       "    <tr>\n",
       "      <th>0</th>\n",
       "      <td>741344</td>\n",
       "      <td>peace-angel</td>\n",
       "      <td>Peace Angel</td>\n",
       "      <td>２０２０年度１年生特進クラス 中村 桃香さんの作品です。天使を操作し、悪魔から死者を守りつつ...</td>\n",
       "      <td>2022-02-14</td>\n",
       "      <td>Released</td>\n",
       "      <td>False</td>\n",
       "      <td>https://media.rawg.io/media/screenshots/415/41...</td>\n",
       "      <td>No Website</td>\n",
       "      <td>0.0</td>\n",
       "      <td>...</td>\n",
       "      <td>No Tag</td>\n",
       "      <td>Mode-less game</td>\n",
       "      <td>神戸電子ゲームソフト分野</td>\n",
       "      <td>{}</td>\n",
       "      <td>0</td>\n",
       "      <td>0</td>\n",
       "      <td>0</td>\n",
       "      <td>0</td>\n",
       "      <td>0</td>\n",
       "      <td>0</td>\n",
       "    </tr>\n",
       "    <tr>\n",
       "      <th>1</th>\n",
       "      <td>374441</td>\n",
       "      <td>brawl-planet</td>\n",
       "      <td>Brawl Planet</td>\n",
       "      <td>Eres un comandante al mando de la nave inteles...</td>\n",
       "      <td>2019-09-09</td>\n",
       "      <td>Released</td>\n",
       "      <td>False</td>\n",
       "      <td>https://media.rawg.io/media/screenshots/bd6/bd...</td>\n",
       "      <td>No Website</td>\n",
       "      <td>0.0</td>\n",
       "      <td>...</td>\n",
       "      <td>Singleplayer||Space||shotter</td>\n",
       "      <td>Singleplayer</td>\n",
       "      <td>AlexisBot</td>\n",
       "      <td>{}</td>\n",
       "      <td>0</td>\n",
       "      <td>0</td>\n",
       "      <td>0</td>\n",
       "      <td>0</td>\n",
       "      <td>0</td>\n",
       "      <td>0</td>\n",
       "    </tr>\n",
       "    <tr>\n",
       "      <th>2</th>\n",
       "      <td>97470</td>\n",
       "      <td>obelus-arcade-boss-rush</td>\n",
       "      <td>OBELUS - Arcade Boss Rush</td>\n",
       "      <td>In OBELUS, a bold robot battles three gargantu...</td>\n",
       "      <td>2018-05-22</td>\n",
       "      <td>Released</td>\n",
       "      <td>False</td>\n",
       "      <td>https://media.rawg.io/media/screenshots/736/73...</td>\n",
       "      <td>No Website</td>\n",
       "      <td>0.0</td>\n",
       "      <td>...</td>\n",
       "      <td>2D||Sci-fi||Pixel Graphics||Destruction||Monst...</td>\n",
       "      <td>Boss Rush</td>\n",
       "      <td>3xBlast||BlauwPrint</td>\n",
       "      <td>{}</td>\n",
       "      <td>0</td>\n",
       "      <td>0</td>\n",
       "      <td>0</td>\n",
       "      <td>0</td>\n",
       "      <td>0</td>\n",
       "      <td>0</td>\n",
       "    </tr>\n",
       "    <tr>\n",
       "      <th>3</th>\n",
       "      <td>306287</td>\n",
       "      <td>pimple-popper-lite</td>\n",
       "      <td>Pimple Popper Lite</td>\n",
       "      <td>Hello, you! We know you're itching for some fi...</td>\n",
       "      <td>2009-10-12</td>\n",
       "      <td>Released</td>\n",
       "      <td>False</td>\n",
       "      <td>https://media.rawg.io/media/screenshots/be3/be...</td>\n",
       "      <td>http://www.roomcandygames.com</td>\n",
       "      <td>0.0</td>\n",
       "      <td>...</td>\n",
       "      <td>friends||fun||scratch</td>\n",
       "      <td>Mode-less game</td>\n",
       "      <td>Room Candy Games</td>\n",
       "      <td>{'minimum': 'iPad 2 Wifi, iPad 2 3G, iPhone 4S...</td>\n",
       "      <td>0</td>\n",
       "      <td>0</td>\n",
       "      <td>0</td>\n",
       "      <td>0</td>\n",
       "      <td>0</td>\n",
       "      <td>0</td>\n",
       "    </tr>\n",
       "    <tr>\n",
       "      <th>4</th>\n",
       "      <td>176964</td>\n",
       "      <td>square-square</td>\n",
       "      <td>SQUARE SQUARE</td>\n",
       "      <td>Left/right arrows - moveUp - restartClick on t...</td>\n",
       "      <td>2016-04-07</td>\n",
       "      <td>Released</td>\n",
       "      <td>False</td>\n",
       "      <td>https://media.rawg.io/media/screenshots/f26/f2...</td>\n",
       "      <td>No Website</td>\n",
       "      <td>0.0</td>\n",
       "      <td>...</td>\n",
       "      <td>2D||Score Attack||Black and White</td>\n",
       "      <td>Mode-less game</td>\n",
       "      <td>Dmitry Degtyarev</td>\n",
       "      <td>{}</td>\n",
       "      <td>0</td>\n",
       "      <td>0</td>\n",
       "      <td>0</td>\n",
       "      <td>0</td>\n",
       "      <td>0</td>\n",
       "      <td>0</td>\n",
       "    </tr>\n",
       "  </tbody>\n",
       "</table>\n",
       "<p>5 rows × 34 columns</p>\n",
       "</div>"
      ],
      "text/plain": [
       "       id                     slug                       name  \\\n",
       "0  741344              peace-angel                Peace Angel   \n",
       "1  374441             brawl-planet               Brawl Planet   \n",
       "2   97470  obelus-arcade-boss-rush  OBELUS - Arcade Boss Rush   \n",
       "3  306287       pimple-popper-lite         Pimple Popper Lite   \n",
       "4  176964            square-square              SQUARE SQUARE   \n",
       "\n",
       "                                         description    released    status  \\\n",
       "0  ２０２０年度１年生特進クラス 中村 桃香さんの作品です。天使を操作し、悪魔から死者を守りつつ...  2022-02-14  Released   \n",
       "1  Eres un comandante al mando de la nave inteles...  2019-09-09  Released   \n",
       "2  In OBELUS, a bold robot battles three gargantu...  2018-05-22  Released   \n",
       "3  Hello, you! We know you're itching for some fi...  2009-10-12  Released   \n",
       "4  Left/right arrows - moveUp - restartClick on t...  2016-04-07  Released   \n",
       "\n",
       "     tba                                   background_image  \\\n",
       "0  False  https://media.rawg.io/media/screenshots/415/41...   \n",
       "1  False  https://media.rawg.io/media/screenshots/bd6/bd...   \n",
       "2  False  https://media.rawg.io/media/screenshots/736/73...   \n",
       "3  False  https://media.rawg.io/media/screenshots/be3/be...   \n",
       "4  False  https://media.rawg.io/media/screenshots/f26/f2...   \n",
       "\n",
       "                         website  rating  ...  \\\n",
       "0                     No Website     0.0  ...   \n",
       "1                     No Website     0.0  ...   \n",
       "2                     No Website     0.0  ...   \n",
       "3  http://www.roomcandygames.com     0.0  ...   \n",
       "4                     No Website     0.0  ...   \n",
       "\n",
       "                                                tags            mode  \\\n",
       "0                                             No Tag  Mode-less game   \n",
       "1                       Singleplayer||Space||shotter    Singleplayer   \n",
       "2  2D||Sci-fi||Pixel Graphics||Destruction||Monst...       Boss Rush   \n",
       "3                              friends||fun||scratch  Mode-less game   \n",
       "4                  2D||Score Attack||Black and White  Mode-less game   \n",
       "\n",
       "            developers                                       requirements  \\\n",
       "0         神戸電子ゲームソフト分野                                                 {}   \n",
       "1            AlexisBot                                                 {}   \n",
       "2  3xBlast||BlauwPrint                                                 {}   \n",
       "3     Room Candy Games  {'minimum': 'iPad 2 Wifi, iPad 2 3G, iPhone 4S...   \n",
       "4     Dmitry Degtyarev                                                 {}   \n",
       "\n",
       "   added_status_yet  added_status_owned  added_status_beaten  \\\n",
       "0                 0                   0                    0   \n",
       "1                 0                   0                    0   \n",
       "2                 0                   0                    0   \n",
       "3                 0                   0                    0   \n",
       "4                 0                   0                    0   \n",
       "\n",
       "   added_status_toplay  added_status_dropped  added_status_playing  \n",
       "0                    0                     0                     0  \n",
       "1                    0                     0                     0  \n",
       "2                    0                     0                     0  \n",
       "3                    0                     0                     0  \n",
       "4                    0                     0                     0  \n",
       "\n",
       "[5 rows x 34 columns]"
      ]
     },
     "execution_count": 2,
     "metadata": {},
     "output_type": "execute_result"
    }
   ],
   "source": [
    "data = pd.read_csv('/Users/AIFFELthon/final/data/modified_data_02.csv')\n",
    "data.head()"
   ]
  },
  {
   "cell_type": "markdown",
   "metadata": {},
   "source": [
    "### 필요한 컬럼 선택"
   ]
  },
  {
   "cell_type": "code",
   "execution_count": 4,
   "metadata": {},
   "outputs": [
    {
     "data": {
      "text/html": [
       "<div>\n",
       "<style scoped>\n",
       "    .dataframe tbody tr th:only-of-type {\n",
       "        vertical-align: middle;\n",
       "    }\n",
       "\n",
       "    .dataframe tbody tr th {\n",
       "        vertical-align: top;\n",
       "    }\n",
       "\n",
       "    .dataframe thead th {\n",
       "        text-align: right;\n",
       "    }\n",
       "</style>\n",
       "<table border=\"1\" class=\"dataframe\">\n",
       "  <thead>\n",
       "    <tr style=\"text-align: right;\">\n",
       "      <th></th>\n",
       "      <th>id</th>\n",
       "      <th>name</th>\n",
       "      <th>description</th>\n",
       "      <th>genre</th>\n",
       "      <th>tags</th>\n",
       "      <th>theme</th>\n",
       "    </tr>\n",
       "  </thead>\n",
       "  <tbody>\n",
       "    <tr>\n",
       "      <th>0</th>\n",
       "      <td>741344</td>\n",
       "      <td>Peace Angel</td>\n",
       "      <td>２０２０年度１年生特進クラス 中村 桃香さんの作品です。天使を操作し、悪魔から死者を守りつつ...</td>\n",
       "      <td>Shooter</td>\n",
       "      <td>No Tag</td>\n",
       "      <td>Themeless</td>\n",
       "    </tr>\n",
       "    <tr>\n",
       "      <th>1</th>\n",
       "      <td>374441</td>\n",
       "      <td>Brawl Planet</td>\n",
       "      <td>Eres un comandante al mando de la nave inteles...</td>\n",
       "      <td>Shooter</td>\n",
       "      <td>Singleplayer||Space||shotter</td>\n",
       "      <td>Themeless</td>\n",
       "    </tr>\n",
       "    <tr>\n",
       "      <th>2</th>\n",
       "      <td>97470</td>\n",
       "      <td>OBELUS - Arcade Boss Rush</td>\n",
       "      <td>In OBELUS, a bold robot battles three gargantu...</td>\n",
       "      <td>Action||Platformer||Shooter</td>\n",
       "      <td>2D||Sci-fi||Pixel Graphics||Destruction||Monst...</td>\n",
       "      <td>Sci-Fi</td>\n",
       "    </tr>\n",
       "    <tr>\n",
       "      <th>3</th>\n",
       "      <td>306287</td>\n",
       "      <td>Pimple Popper Lite</td>\n",
       "      <td>Hello, you! We know you're itching for some fi...</td>\n",
       "      <td>Action||Arcade||Casual</td>\n",
       "      <td>friends||fun||scratch</td>\n",
       "      <td>Themeless</td>\n",
       "    </tr>\n",
       "    <tr>\n",
       "      <th>4</th>\n",
       "      <td>176964</td>\n",
       "      <td>SQUARE SQUARE</td>\n",
       "      <td>Left/right arrows - moveUp - restartClick on t...</td>\n",
       "      <td>Action</td>\n",
       "      <td>2D||Score Attack||Black and White</td>\n",
       "      <td>Themeless</td>\n",
       "    </tr>\n",
       "  </tbody>\n",
       "</table>\n",
       "</div>"
      ],
      "text/plain": [
       "       id                       name  \\\n",
       "0  741344                Peace Angel   \n",
       "1  374441               Brawl Planet   \n",
       "2   97470  OBELUS - Arcade Boss Rush   \n",
       "3  306287         Pimple Popper Lite   \n",
       "4  176964              SQUARE SQUARE   \n",
       "\n",
       "                                         description  \\\n",
       "0  ２０２０年度１年生特進クラス 中村 桃香さんの作品です。天使を操作し、悪魔から死者を守りつつ...   \n",
       "1  Eres un comandante al mando de la nave inteles...   \n",
       "2  In OBELUS, a bold robot battles three gargantu...   \n",
       "3  Hello, you! We know you're itching for some fi...   \n",
       "4  Left/right arrows - moveUp - restartClick on t...   \n",
       "\n",
       "                         genre  \\\n",
       "0                      Shooter   \n",
       "1                      Shooter   \n",
       "2  Action||Platformer||Shooter   \n",
       "3       Action||Arcade||Casual   \n",
       "4                       Action   \n",
       "\n",
       "                                                tags      theme  \n",
       "0                                             No Tag  Themeless  \n",
       "1                       Singleplayer||Space||shotter  Themeless  \n",
       "2  2D||Sci-fi||Pixel Graphics||Destruction||Monst...     Sci-Fi  \n",
       "3                              friends||fun||scratch  Themeless  \n",
       "4                  2D||Score Attack||Black and White  Themeless  "
      ]
     },
     "execution_count": 4,
     "metadata": {},
     "output_type": "execute_result"
    }
   ],
   "source": [
    "df = data[['id', 'name', 'description', 'genre', 'tags', 'theme']]\n",
    "df.head()"
   ]
  },
  {
   "cell_type": "markdown",
   "metadata": {},
   "source": [
    "### 내용 기반 필터링을 위한 텍스트 컬럼 생성"
   ]
  },
  {
   "cell_type": "code",
   "execution_count": 5,
   "metadata": {},
   "outputs": [
    {
     "name": "stderr",
     "output_type": "stream",
     "text": [
      "/var/folders/zw/1zmd_ykn3zbd2m00vrvhv5m40000gn/T/ipykernel_64148/1341809870.py:1: SettingWithCopyWarning: \n",
      "A value is trying to be set on a copy of a slice from a DataFrame.\n",
      "Try using .loc[row_indexer,col_indexer] = value instead\n",
      "\n",
      "See the caveats in the documentation: https://pandas.pydata.org/pandas-docs/stable/user_guide/indexing.html#returning-a-view-versus-a-copy\n",
      "  df['content'] = df['description'] + ' ' + df['genre'].str.replace('||', ' ') + ' ' + df['tags'].str.replace('||', ' ') + ' ' + df['theme'].str.replace('||', ' ')\n"
     ]
    },
    {
     "data": {
      "text/html": [
       "<div>\n",
       "<style scoped>\n",
       "    .dataframe tbody tr th:only-of-type {\n",
       "        vertical-align: middle;\n",
       "    }\n",
       "\n",
       "    .dataframe tbody tr th {\n",
       "        vertical-align: top;\n",
       "    }\n",
       "\n",
       "    .dataframe thead th {\n",
       "        text-align: right;\n",
       "    }\n",
       "</style>\n",
       "<table border=\"1\" class=\"dataframe\">\n",
       "  <thead>\n",
       "    <tr style=\"text-align: right;\">\n",
       "      <th></th>\n",
       "      <th>id</th>\n",
       "      <th>name</th>\n",
       "      <th>description</th>\n",
       "      <th>genre</th>\n",
       "      <th>tags</th>\n",
       "      <th>theme</th>\n",
       "      <th>content</th>\n",
       "    </tr>\n",
       "  </thead>\n",
       "  <tbody>\n",
       "    <tr>\n",
       "      <th>0</th>\n",
       "      <td>741344</td>\n",
       "      <td>Peace Angel</td>\n",
       "      <td>２０２０年度１年生特進クラス 中村 桃香さんの作品です。天使を操作し、悪魔から死者を守りつつ...</td>\n",
       "      <td>Shooter</td>\n",
       "      <td>No Tag</td>\n",
       "      <td>Themeless</td>\n",
       "      <td>２０２０年度１年生特進クラス 中村 桃香さんの作品です。天使を操作し、悪魔から死者を守りつつ...</td>\n",
       "    </tr>\n",
       "    <tr>\n",
       "      <th>1</th>\n",
       "      <td>374441</td>\n",
       "      <td>Brawl Planet</td>\n",
       "      <td>Eres un comandante al mando de la nave inteles...</td>\n",
       "      <td>Shooter</td>\n",
       "      <td>Singleplayer||Space||shotter</td>\n",
       "      <td>Themeless</td>\n",
       "      <td>Eres un comandante al mando de la nave inteles...</td>\n",
       "    </tr>\n",
       "    <tr>\n",
       "      <th>2</th>\n",
       "      <td>97470</td>\n",
       "      <td>OBELUS - Arcade Boss Rush</td>\n",
       "      <td>In OBELUS, a bold robot battles three gargantu...</td>\n",
       "      <td>Action||Platformer||Shooter</td>\n",
       "      <td>2D||Sci-fi||Pixel Graphics||Destruction||Monst...</td>\n",
       "      <td>Sci-Fi</td>\n",
       "      <td>In OBELUS, a bold robot battles three gargantu...</td>\n",
       "    </tr>\n",
       "    <tr>\n",
       "      <th>3</th>\n",
       "      <td>306287</td>\n",
       "      <td>Pimple Popper Lite</td>\n",
       "      <td>Hello, you! We know you're itching for some fi...</td>\n",
       "      <td>Action||Arcade||Casual</td>\n",
       "      <td>friends||fun||scratch</td>\n",
       "      <td>Themeless</td>\n",
       "      <td>Hello, you! We know you're itching for some fi...</td>\n",
       "    </tr>\n",
       "    <tr>\n",
       "      <th>4</th>\n",
       "      <td>176964</td>\n",
       "      <td>SQUARE SQUARE</td>\n",
       "      <td>Left/right arrows - moveUp - restartClick on t...</td>\n",
       "      <td>Action</td>\n",
       "      <td>2D||Score Attack||Black and White</td>\n",
       "      <td>Themeless</td>\n",
       "      <td>Left/right arrows - moveUp - restartClick on t...</td>\n",
       "    </tr>\n",
       "  </tbody>\n",
       "</table>\n",
       "</div>"
      ],
      "text/plain": [
       "       id                       name  \\\n",
       "0  741344                Peace Angel   \n",
       "1  374441               Brawl Planet   \n",
       "2   97470  OBELUS - Arcade Boss Rush   \n",
       "3  306287         Pimple Popper Lite   \n",
       "4  176964              SQUARE SQUARE   \n",
       "\n",
       "                                         description  \\\n",
       "0  ２０２０年度１年生特進クラス 中村 桃香さんの作品です。天使を操作し、悪魔から死者を守りつつ...   \n",
       "1  Eres un comandante al mando de la nave inteles...   \n",
       "2  In OBELUS, a bold robot battles three gargantu...   \n",
       "3  Hello, you! We know you're itching for some fi...   \n",
       "4  Left/right arrows - moveUp - restartClick on t...   \n",
       "\n",
       "                         genre  \\\n",
       "0                      Shooter   \n",
       "1                      Shooter   \n",
       "2  Action||Platformer||Shooter   \n",
       "3       Action||Arcade||Casual   \n",
       "4                       Action   \n",
       "\n",
       "                                                tags      theme  \\\n",
       "0                                             No Tag  Themeless   \n",
       "1                       Singleplayer||Space||shotter  Themeless   \n",
       "2  2D||Sci-fi||Pixel Graphics||Destruction||Monst...     Sci-Fi   \n",
       "3                              friends||fun||scratch  Themeless   \n",
       "4                  2D||Score Attack||Black and White  Themeless   \n",
       "\n",
       "                                             content  \n",
       "0  ２０２０年度１年生特進クラス 中村 桃香さんの作品です。天使を操作し、悪魔から死者を守りつつ...  \n",
       "1  Eres un comandante al mando de la nave inteles...  \n",
       "2  In OBELUS, a bold robot battles three gargantu...  \n",
       "3  Hello, you! We know you're itching for some fi...  \n",
       "4  Left/right arrows - moveUp - restartClick on t...  "
      ]
     },
     "execution_count": 5,
     "metadata": {},
     "output_type": "execute_result"
    }
   ],
   "source": [
    "df['content'] = df['description'] + ' ' + df['genre'].str.replace('||', ' ') + ' ' + df['tags'].str.replace('||', ' ') + ' ' + df['theme'].str.replace('||', ' ')\n",
    "df.head()"
   ]
  },
  {
   "cell_type": "markdown",
   "metadata": {},
   "source": [
    "## 텍스트 벡터화"
   ]
  },
  {
   "cell_type": "markdown",
   "metadata": {},
   "source": [
    "### TF-IDF 벡터라이저 초기화"
   ]
  },
  {
   "cell_type": "code",
   "execution_count": 6,
   "metadata": {},
   "outputs": [
    {
     "data": {
      "text/html": [
       "<style>#sk-container-id-1 {color: black;}#sk-container-id-1 pre{padding: 0;}#sk-container-id-1 div.sk-toggleable {background-color: white;}#sk-container-id-1 label.sk-toggleable__label {cursor: pointer;display: block;width: 100%;margin-bottom: 0;padding: 0.3em;box-sizing: border-box;text-align: center;}#sk-container-id-1 label.sk-toggleable__label-arrow:before {content: \"▸\";float: left;margin-right: 0.25em;color: #696969;}#sk-container-id-1 label.sk-toggleable__label-arrow:hover:before {color: black;}#sk-container-id-1 div.sk-estimator:hover label.sk-toggleable__label-arrow:before {color: black;}#sk-container-id-1 div.sk-toggleable__content {max-height: 0;max-width: 0;overflow: hidden;text-align: left;background-color: #f0f8ff;}#sk-container-id-1 div.sk-toggleable__content pre {margin: 0.2em;color: black;border-radius: 0.25em;background-color: #f0f8ff;}#sk-container-id-1 input.sk-toggleable__control:checked~div.sk-toggleable__content {max-height: 200px;max-width: 100%;overflow: auto;}#sk-container-id-1 input.sk-toggleable__control:checked~label.sk-toggleable__label-arrow:before {content: \"▾\";}#sk-container-id-1 div.sk-estimator input.sk-toggleable__control:checked~label.sk-toggleable__label {background-color: #d4ebff;}#sk-container-id-1 div.sk-label input.sk-toggleable__control:checked~label.sk-toggleable__label {background-color: #d4ebff;}#sk-container-id-1 input.sk-hidden--visually {border: 0;clip: rect(1px 1px 1px 1px);clip: rect(1px, 1px, 1px, 1px);height: 1px;margin: -1px;overflow: hidden;padding: 0;position: absolute;width: 1px;}#sk-container-id-1 div.sk-estimator {font-family: monospace;background-color: #f0f8ff;border: 1px dotted black;border-radius: 0.25em;box-sizing: border-box;margin-bottom: 0.5em;}#sk-container-id-1 div.sk-estimator:hover {background-color: #d4ebff;}#sk-container-id-1 div.sk-parallel-item::after {content: \"\";width: 100%;border-bottom: 1px solid gray;flex-grow: 1;}#sk-container-id-1 div.sk-label:hover label.sk-toggleable__label {background-color: #d4ebff;}#sk-container-id-1 div.sk-serial::before {content: \"\";position: absolute;border-left: 1px solid gray;box-sizing: border-box;top: 0;bottom: 0;left: 50%;z-index: 0;}#sk-container-id-1 div.sk-serial {display: flex;flex-direction: column;align-items: center;background-color: white;padding-right: 0.2em;padding-left: 0.2em;position: relative;}#sk-container-id-1 div.sk-item {position: relative;z-index: 1;}#sk-container-id-1 div.sk-parallel {display: flex;align-items: stretch;justify-content: center;background-color: white;position: relative;}#sk-container-id-1 div.sk-item::before, #sk-container-id-1 div.sk-parallel-item::before {content: \"\";position: absolute;border-left: 1px solid gray;box-sizing: border-box;top: 0;bottom: 0;left: 50%;z-index: -1;}#sk-container-id-1 div.sk-parallel-item {display: flex;flex-direction: column;z-index: 1;position: relative;background-color: white;}#sk-container-id-1 div.sk-parallel-item:first-child::after {align-self: flex-end;width: 50%;}#sk-container-id-1 div.sk-parallel-item:last-child::after {align-self: flex-start;width: 50%;}#sk-container-id-1 div.sk-parallel-item:only-child::after {width: 0;}#sk-container-id-1 div.sk-dashed-wrapped {border: 1px dashed gray;margin: 0 0.4em 0.5em 0.4em;box-sizing: border-box;padding-bottom: 0.4em;background-color: white;}#sk-container-id-1 div.sk-label label {font-family: monospace;font-weight: bold;display: inline-block;line-height: 1.2em;}#sk-container-id-1 div.sk-label-container {text-align: center;}#sk-container-id-1 div.sk-container {/* jupyter's `normalize.less` sets `[hidden] { display: none; }` but bootstrap.min.css set `[hidden] { display: none !important; }` so we also need the `!important` here to be able to override the default hidden behavior on the sphinx rendered scikit-learn.org. See: https://github.com/scikit-learn/scikit-learn/issues/21755 */display: inline-block !important;position: relative;}#sk-container-id-1 div.sk-text-repr-fallback {display: none;}</style><div id=\"sk-container-id-1\" class=\"sk-top-container\"><div class=\"sk-text-repr-fallback\"><pre>TfidfVectorizer(stop_words=&#x27;english&#x27;)</pre><b>In a Jupyter environment, please rerun this cell to show the HTML representation or trust the notebook. <br />On GitHub, the HTML representation is unable to render, please try loading this page with nbviewer.org.</b></div><div class=\"sk-container\" hidden><div class=\"sk-item\"><div class=\"sk-estimator sk-toggleable\"><input class=\"sk-toggleable__control sk-hidden--visually\" id=\"sk-estimator-id-1\" type=\"checkbox\" checked><label for=\"sk-estimator-id-1\" class=\"sk-toggleable__label sk-toggleable__label-arrow\">TfidfVectorizer</label><div class=\"sk-toggleable__content\"><pre>TfidfVectorizer(stop_words=&#x27;english&#x27;)</pre></div></div></div></div></div>"
      ],
      "text/plain": [
       "TfidfVectorizer(stop_words='english')"
      ]
     },
     "execution_count": 6,
     "metadata": {},
     "output_type": "execute_result"
    }
   ],
   "source": [
    "tfidf = TfidfVectorizer(stop_words='english')\n",
    "tfidf"
   ]
  },
  {
   "cell_type": "markdown",
   "metadata": {},
   "source": [
    "### content 컬럼을 TF-IDF 행렬로 변환"
   ]
  },
  {
   "cell_type": "code",
   "execution_count": 7,
   "metadata": {},
   "outputs": [
    {
     "name": "stdout",
     "output_type": "stream",
     "text": [
      "(529715, 996297)\n"
     ]
    }
   ],
   "source": [
    "tfidf_matrix = tfidf.fit_transform(df['content'])\n",
    "\n",
    "# TF-IDF 행렬의 크기 확인\n",
    "print(tfidf_matrix.shape)"
   ]
  },
  {
   "cell_type": "markdown",
   "metadata": {},
   "source": [
    "### 차원 축소 기법"
   ]
  },
  {
   "cell_type": "code",
   "execution_count": 8,
   "metadata": {},
   "outputs": [
    {
     "name": "stdout",
     "output_type": "stream",
     "text": [
      "(529715, 100)\n"
     ]
    }
   ],
   "source": [
    "# Truncated SVD를 사용하여 차원 축소\n",
    "svd = TruncatedSVD(n_components=100)\n",
    "tfidf_matrix_reduced = svd.fit_transform(tfidf_matrix)\n",
    "\n",
    "# 차원 축소된 TF-IDF 행렬의 크기 확인\n",
    "print(tfidf_matrix_reduced.shape)"
   ]
  },
  {
   "cell_type": "markdown",
   "metadata": {},
   "source": [
    "## 유사도 계산"
   ]
  },
  {
   "cell_type": "markdown",
   "metadata": {},
   "source": [
    "### 코사인 유사도 계산"
   ]
  },
  {
   "cell_type": "code",
   "execution_count": 9,
   "metadata": {},
   "outputs": [
    {
     "ename": "",
     "evalue": "",
     "output_type": "error",
     "traceback": [
      "\u001b[1;31m현재 셀 또는 이전 셀에서 코드를 실행하는 동안 Kernel이 충돌했습니다. \n",
      "\u001b[1;31m셀의 코드를 검토하여 가능한 오류 원인을 식별하세요. \n",
      "\u001b[1;31m자세한 내용을 보려면 <a href='https://aka.ms/vscodeJupyterKernelCrash'>여기</a>를 클릭하세요. \n",
      "\u001b[1;31m자세한 내용은 Jupyter <a href='command:jupyter.viewOutput'>로그</a>를 참조하세요."
     ]
    }
   ],
   "source": [
    "cosine_sim = linear_kernel(tfidf_matrix, tfidf_matrix)\n",
    "\n",
    "# 유사도 매트릭스 확인\n",
    "print(cosine_sim.shape)"
   ]
  },
  {
   "cell_type": "markdown",
   "metadata": {},
   "source": [
    "## 추천 시스템 구축"
   ]
  },
  {
   "cell_type": "markdown",
   "metadata": {},
   "source": [
    "### 게임 이름과 인덱스를 매핑하는 딕셔너리 생성"
   ]
  },
  {
   "cell_type": "code",
   "execution_count": null,
   "metadata": {},
   "outputs": [],
   "source": [
    "indices = pd.Series(df.index, index=df['name']).drop_duplicates()"
   ]
  },
  {
   "cell_type": "markdown",
   "metadata": {},
   "source": [
    "### 추천 함수 정의"
   ]
  },
  {
   "cell_type": "code",
   "execution_count": null,
   "metadata": {},
   "outputs": [],
   "source": [
    "def get_recommendations(title, cosine_sim=cosine_sim):\n",
    "    # 입력된 게임의 인덱스 가져오기\n",
    "    idx = indices[title]\n",
    "\n",
    "    # 해당 게임과 모든 게임 간의 유사도 점수 가져오기\n",
    "    sim_scores = list(enumerate(cosine_sim[idx]))\n",
    "\n",
    "    # 유사도 점수에 따라 게임들을 정렬\n",
    "    sim_scores = sorted(sim_scores, key=lambda x: x[1], reverse=True)\n",
    "\n",
    "    # 가장 유사한 10개의 게임 인덱스 가져오기\n",
    "    sim_scores = sim_scores[1:11]\n",
    "\n",
    "    # 유사한 게임 인덱스 추출\n",
    "    game_indices = [i[0] for i in sim_scores]\n",
    "\n",
    "    # 유사한 게임들의 이름 반환\n",
    "    return df['name'].iloc[game_indices]"
   ]
  },
  {
   "cell_type": "markdown",
   "metadata": {},
   "source": [
    "### 특정 게임과 유사한 게임 추천"
   ]
  },
  {
   "cell_type": "code",
   "execution_count": null,
   "metadata": {},
   "outputs": [],
   "source": [
    "print(get_recommendations('Brawl Planet'))"
   ]
  }
 ],
 "metadata": {
  "kernelspec": {
   "display_name": "Python 3",
   "language": "python",
   "name": "python3"
  },
  "language_info": {
   "codemirror_mode": {
    "name": "ipython",
    "version": 3
   },
   "file_extension": ".py",
   "mimetype": "text/x-python",
   "name": "python",
   "nbconvert_exporter": "python",
   "pygments_lexer": "ipython3",
   "version": "3.11.4"
  }
 },
 "nbformat": 4,
 "nbformat_minor": 2
}
