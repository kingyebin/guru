{
 "cells": [
  {
   "cell_type": "markdown",
   "metadata": {},
   "source": [
    "# 내용 기반 필터링(Content-based Filtering)\n",
    "- description, genre, tags, theme 등을 사용하여 유사한 게임을 추천한다.\n",
    "- TF-IDF, Word2Vec, BERT와 같은 텍스트 임베딩을 사용하여 게임 설명을 벡터화하고 유사도를 계산한다."
   ]
  },
  {
   "cell_type": "markdown",
   "metadata": {},
   "source": [
    "## 데이터 준비 및 전처리"
   ]
  },
  {
   "cell_type": "code",
   "execution_count": 2,
   "metadata": {},
   "outputs": [
    {
     "name": "stdout",
     "output_type": "stream",
     "text": [
      "/aiffel/aiffel/0001\n"
     ]
    }
   ],
   "source": [
    "import pandas as pd\n",
    "from sklearn.feature_extraction.text import TfidfVectorizer\n",
    "from sklearn.metrics.pairwise import linear_kernel\n",
    "from sklearn.decomposition import TruncatedSVD\n",
    "from annoy import AnnoyIndex\n",
    "import numpy as np\n",
    "import os\n",
    "\n",
    "print(os.getcwd())"
   ]
  },
  {
   "cell_type": "markdown",
   "metadata": {},
   "source": [
    "### 데이터 로드"
   ]
  },
  {
   "cell_type": "code",
   "execution_count": 3,
   "metadata": {
    "scrolled": false
   },
   "outputs": [
    {
     "data": {
      "text/html": [
       "<div>\n",
       "<style scoped>\n",
       "    .dataframe tbody tr th:only-of-type {\n",
       "        vertical-align: middle;\n",
       "    }\n",
       "\n",
       "    .dataframe tbody tr th {\n",
       "        vertical-align: top;\n",
       "    }\n",
       "\n",
       "    .dataframe thead th {\n",
       "        text-align: right;\n",
       "    }\n",
       "</style>\n",
       "<table border=\"1\" class=\"dataframe\">\n",
       "  <thead>\n",
       "    <tr style=\"text-align: right;\">\n",
       "      <th></th>\n",
       "      <th>id</th>\n",
       "      <th>slug</th>\n",
       "      <th>name</th>\n",
       "      <th>description</th>\n",
       "      <th>released</th>\n",
       "      <th>status</th>\n",
       "      <th>tba</th>\n",
       "      <th>background_image</th>\n",
       "      <th>website</th>\n",
       "      <th>rating</th>\n",
       "      <th>...</th>\n",
       "      <th>tags</th>\n",
       "      <th>mode</th>\n",
       "      <th>developers</th>\n",
       "      <th>requirements</th>\n",
       "      <th>added_status_yet</th>\n",
       "      <th>added_status_owned</th>\n",
       "      <th>added_status_beaten</th>\n",
       "      <th>added_status_toplay</th>\n",
       "      <th>added_status_dropped</th>\n",
       "      <th>added_status_playing</th>\n",
       "    </tr>\n",
       "  </thead>\n",
       "  <tbody>\n",
       "    <tr>\n",
       "      <th>0</th>\n",
       "      <td>741344</td>\n",
       "      <td>peace-angel</td>\n",
       "      <td>Peace Angel</td>\n",
       "      <td>２０２０年度１年生特進クラス 中村 桃香さんの作品です。天使を操作し、悪魔から死者を守りつつ...</td>\n",
       "      <td>2022-02-14</td>\n",
       "      <td>Released</td>\n",
       "      <td>False</td>\n",
       "      <td>https://media.rawg.io/media/screenshots/415/41...</td>\n",
       "      <td>No Website</td>\n",
       "      <td>0.0</td>\n",
       "      <td>...</td>\n",
       "      <td>No Tag</td>\n",
       "      <td>Mode-less game</td>\n",
       "      <td>神戸電子ゲームソフト分野</td>\n",
       "      <td>{}</td>\n",
       "      <td>0</td>\n",
       "      <td>0</td>\n",
       "      <td>0</td>\n",
       "      <td>0</td>\n",
       "      <td>0</td>\n",
       "      <td>0</td>\n",
       "    </tr>\n",
       "    <tr>\n",
       "      <th>1</th>\n",
       "      <td>374441</td>\n",
       "      <td>brawl-planet</td>\n",
       "      <td>Brawl Planet</td>\n",
       "      <td>Eres un comandante al mando de la nave inteles...</td>\n",
       "      <td>2019-09-09</td>\n",
       "      <td>Released</td>\n",
       "      <td>False</td>\n",
       "      <td>https://media.rawg.io/media/screenshots/bd6/bd...</td>\n",
       "      <td>No Website</td>\n",
       "      <td>0.0</td>\n",
       "      <td>...</td>\n",
       "      <td>Singleplayer||Space||shotter</td>\n",
       "      <td>Singleplayer</td>\n",
       "      <td>AlexisBot</td>\n",
       "      <td>{}</td>\n",
       "      <td>0</td>\n",
       "      <td>0</td>\n",
       "      <td>0</td>\n",
       "      <td>0</td>\n",
       "      <td>0</td>\n",
       "      <td>0</td>\n",
       "    </tr>\n",
       "    <tr>\n",
       "      <th>2</th>\n",
       "      <td>97470</td>\n",
       "      <td>obelus-arcade-boss-rush</td>\n",
       "      <td>OBELUS - Arcade Boss Rush</td>\n",
       "      <td>In OBELUS, a bold robot battles three gargantu...</td>\n",
       "      <td>2018-05-22</td>\n",
       "      <td>Released</td>\n",
       "      <td>False</td>\n",
       "      <td>https://media.rawg.io/media/screenshots/736/73...</td>\n",
       "      <td>No Website</td>\n",
       "      <td>0.0</td>\n",
       "      <td>...</td>\n",
       "      <td>2D||Sci-fi||Pixel Graphics||Destruction||Monst...</td>\n",
       "      <td>Boss Rush</td>\n",
       "      <td>3xBlast||BlauwPrint</td>\n",
       "      <td>{}</td>\n",
       "      <td>0</td>\n",
       "      <td>0</td>\n",
       "      <td>0</td>\n",
       "      <td>0</td>\n",
       "      <td>0</td>\n",
       "      <td>0</td>\n",
       "    </tr>\n",
       "    <tr>\n",
       "      <th>3</th>\n",
       "      <td>306287</td>\n",
       "      <td>pimple-popper-lite</td>\n",
       "      <td>Pimple Popper Lite</td>\n",
       "      <td>Hello, you! We know you're itching for some fi...</td>\n",
       "      <td>2009-10-12</td>\n",
       "      <td>Released</td>\n",
       "      <td>False</td>\n",
       "      <td>https://media.rawg.io/media/screenshots/be3/be...</td>\n",
       "      <td>http://www.roomcandygames.com</td>\n",
       "      <td>0.0</td>\n",
       "      <td>...</td>\n",
       "      <td>friends||fun||scratch</td>\n",
       "      <td>Mode-less game</td>\n",
       "      <td>Room Candy Games</td>\n",
       "      <td>{'minimum': 'iPad 2 Wifi, iPad 2 3G, iPhone 4S...</td>\n",
       "      <td>0</td>\n",
       "      <td>0</td>\n",
       "      <td>0</td>\n",
       "      <td>0</td>\n",
       "      <td>0</td>\n",
       "      <td>0</td>\n",
       "    </tr>\n",
       "    <tr>\n",
       "      <th>4</th>\n",
       "      <td>176964</td>\n",
       "      <td>square-square</td>\n",
       "      <td>SQUARE SQUARE</td>\n",
       "      <td>Left/right arrows - moveUp - restartClick on t...</td>\n",
       "      <td>2016-04-07</td>\n",
       "      <td>Released</td>\n",
       "      <td>False</td>\n",
       "      <td>https://media.rawg.io/media/screenshots/f26/f2...</td>\n",
       "      <td>No Website</td>\n",
       "      <td>0.0</td>\n",
       "      <td>...</td>\n",
       "      <td>2D||Score Attack||Black and White</td>\n",
       "      <td>Mode-less game</td>\n",
       "      <td>Dmitry Degtyarev</td>\n",
       "      <td>{}</td>\n",
       "      <td>0</td>\n",
       "      <td>0</td>\n",
       "      <td>0</td>\n",
       "      <td>0</td>\n",
       "      <td>0</td>\n",
       "      <td>0</td>\n",
       "    </tr>\n",
       "  </tbody>\n",
       "</table>\n",
       "<p>5 rows × 34 columns</p>\n",
       "</div>"
      ],
      "text/plain": [
       "       id                     slug                       name  \\\n",
       "0  741344              peace-angel                Peace Angel   \n",
       "1  374441             brawl-planet               Brawl Planet   \n",
       "2   97470  obelus-arcade-boss-rush  OBELUS - Arcade Boss Rush   \n",
       "3  306287       pimple-popper-lite         Pimple Popper Lite   \n",
       "4  176964            square-square              SQUARE SQUARE   \n",
       "\n",
       "                                         description    released    status  \\\n",
       "0  ２０２０年度１年生特進クラス 中村 桃香さんの作品です。天使を操作し、悪魔から死者を守りつつ...  2022-02-14  Released   \n",
       "1  Eres un comandante al mando de la nave inteles...  2019-09-09  Released   \n",
       "2  In OBELUS, a bold robot battles three gargantu...  2018-05-22  Released   \n",
       "3  Hello, you! We know you're itching for some fi...  2009-10-12  Released   \n",
       "4  Left/right arrows - moveUp - restartClick on t...  2016-04-07  Released   \n",
       "\n",
       "     tba                                   background_image  \\\n",
       "0  False  https://media.rawg.io/media/screenshots/415/41...   \n",
       "1  False  https://media.rawg.io/media/screenshots/bd6/bd...   \n",
       "2  False  https://media.rawg.io/media/screenshots/736/73...   \n",
       "3  False  https://media.rawg.io/media/screenshots/be3/be...   \n",
       "4  False  https://media.rawg.io/media/screenshots/f26/f2...   \n",
       "\n",
       "                         website  rating  ...  \\\n",
       "0                     No Website     0.0  ...   \n",
       "1                     No Website     0.0  ...   \n",
       "2                     No Website     0.0  ...   \n",
       "3  http://www.roomcandygames.com     0.0  ...   \n",
       "4                     No Website     0.0  ...   \n",
       "\n",
       "                                                tags            mode  \\\n",
       "0                                             No Tag  Mode-less game   \n",
       "1                       Singleplayer||Space||shotter    Singleplayer   \n",
       "2  2D||Sci-fi||Pixel Graphics||Destruction||Monst...       Boss Rush   \n",
       "3                              friends||fun||scratch  Mode-less game   \n",
       "4                  2D||Score Attack||Black and White  Mode-less game   \n",
       "\n",
       "            developers                                       requirements  \\\n",
       "0         神戸電子ゲームソフト分野                                                 {}   \n",
       "1            AlexisBot                                                 {}   \n",
       "2  3xBlast||BlauwPrint                                                 {}   \n",
       "3     Room Candy Games  {'minimum': 'iPad 2 Wifi, iPad 2 3G, iPhone 4S...   \n",
       "4     Dmitry Degtyarev                                                 {}   \n",
       "\n",
       "   added_status_yet  added_status_owned  added_status_beaten  \\\n",
       "0                 0                   0                    0   \n",
       "1                 0                   0                    0   \n",
       "2                 0                   0                    0   \n",
       "3                 0                   0                    0   \n",
       "4                 0                   0                    0   \n",
       "\n",
       "   added_status_toplay  added_status_dropped  added_status_playing  \n",
       "0                    0                     0                     0  \n",
       "1                    0                     0                     0  \n",
       "2                    0                     0                     0  \n",
       "3                    0                     0                     0  \n",
       "4                    0                     0                     0  \n",
       "\n",
       "[5 rows x 34 columns]"
      ]
     },
     "execution_count": 3,
     "metadata": {},
     "output_type": "execute_result"
    }
   ],
   "source": [
    "data = pd.read_csv('/aiffel/aiffel/0001/modified_data_02.csv')\n",
    "data.head()"
   ]
  },
  {
   "cell_type": "markdown",
   "metadata": {},
   "source": [
    "### 필요한 컬럼 선택"
   ]
  },
  {
   "cell_type": "code",
   "execution_count": 4,
   "metadata": {},
   "outputs": [
    {
     "data": {
      "text/html": [
       "<div>\n",
       "<style scoped>\n",
       "    .dataframe tbody tr th:only-of-type {\n",
       "        vertical-align: middle;\n",
       "    }\n",
       "\n",
       "    .dataframe tbody tr th {\n",
       "        vertical-align: top;\n",
       "    }\n",
       "\n",
       "    .dataframe thead th {\n",
       "        text-align: right;\n",
       "    }\n",
       "</style>\n",
       "<table border=\"1\" class=\"dataframe\">\n",
       "  <thead>\n",
       "    <tr style=\"text-align: right;\">\n",
       "      <th></th>\n",
       "      <th>id</th>\n",
       "      <th>name</th>\n",
       "      <th>description</th>\n",
       "      <th>genre</th>\n",
       "      <th>tags</th>\n",
       "      <th>theme</th>\n",
       "    </tr>\n",
       "  </thead>\n",
       "  <tbody>\n",
       "    <tr>\n",
       "      <th>0</th>\n",
       "      <td>741344</td>\n",
       "      <td>Peace Angel</td>\n",
       "      <td>２０２０年度１年生特進クラス 中村 桃香さんの作品です。天使を操作し、悪魔から死者を守りつつ...</td>\n",
       "      <td>Shooter</td>\n",
       "      <td>No Tag</td>\n",
       "      <td>Themeless</td>\n",
       "    </tr>\n",
       "    <tr>\n",
       "      <th>1</th>\n",
       "      <td>374441</td>\n",
       "      <td>Brawl Planet</td>\n",
       "      <td>Eres un comandante al mando de la nave inteles...</td>\n",
       "      <td>Shooter</td>\n",
       "      <td>Singleplayer||Space||shotter</td>\n",
       "      <td>Themeless</td>\n",
       "    </tr>\n",
       "    <tr>\n",
       "      <th>2</th>\n",
       "      <td>97470</td>\n",
       "      <td>OBELUS - Arcade Boss Rush</td>\n",
       "      <td>In OBELUS, a bold robot battles three gargantu...</td>\n",
       "      <td>Action||Platformer||Shooter</td>\n",
       "      <td>2D||Sci-fi||Pixel Graphics||Destruction||Monst...</td>\n",
       "      <td>Sci-Fi</td>\n",
       "    </tr>\n",
       "    <tr>\n",
       "      <th>3</th>\n",
       "      <td>306287</td>\n",
       "      <td>Pimple Popper Lite</td>\n",
       "      <td>Hello, you! We know you're itching for some fi...</td>\n",
       "      <td>Action||Arcade||Casual</td>\n",
       "      <td>friends||fun||scratch</td>\n",
       "      <td>Themeless</td>\n",
       "    </tr>\n",
       "    <tr>\n",
       "      <th>4</th>\n",
       "      <td>176964</td>\n",
       "      <td>SQUARE SQUARE</td>\n",
       "      <td>Left/right arrows - moveUp - restartClick on t...</td>\n",
       "      <td>Action</td>\n",
       "      <td>2D||Score Attack||Black and White</td>\n",
       "      <td>Themeless</td>\n",
       "    </tr>\n",
       "  </tbody>\n",
       "</table>\n",
       "</div>"
      ],
      "text/plain": [
       "       id                       name  \\\n",
       "0  741344                Peace Angel   \n",
       "1  374441               Brawl Planet   \n",
       "2   97470  OBELUS - Arcade Boss Rush   \n",
       "3  306287         Pimple Popper Lite   \n",
       "4  176964              SQUARE SQUARE   \n",
       "\n",
       "                                         description  \\\n",
       "0  ２０２０年度１年生特進クラス 中村 桃香さんの作品です。天使を操作し、悪魔から死者を守りつつ...   \n",
       "1  Eres un comandante al mando de la nave inteles...   \n",
       "2  In OBELUS, a bold robot battles three gargantu...   \n",
       "3  Hello, you! We know you're itching for some fi...   \n",
       "4  Left/right arrows - moveUp - restartClick on t...   \n",
       "\n",
       "                         genre  \\\n",
       "0                      Shooter   \n",
       "1                      Shooter   \n",
       "2  Action||Platformer||Shooter   \n",
       "3       Action||Arcade||Casual   \n",
       "4                       Action   \n",
       "\n",
       "                                                tags      theme  \n",
       "0                                             No Tag  Themeless  \n",
       "1                       Singleplayer||Space||shotter  Themeless  \n",
       "2  2D||Sci-fi||Pixel Graphics||Destruction||Monst...     Sci-Fi  \n",
       "3                              friends||fun||scratch  Themeless  \n",
       "4                  2D||Score Attack||Black and White  Themeless  "
      ]
     },
     "execution_count": 4,
     "metadata": {},
     "output_type": "execute_result"
    }
   ],
   "source": [
    "df = data[['id', 'name', 'description', 'genre', 'tags', 'theme']]\n",
    "df.head()"
   ]
  },
  {
   "cell_type": "markdown",
   "metadata": {},
   "source": [
    "### 내용 기반 필터링을 위한 텍스트 컬럼 생성"
   ]
  },
  {
   "cell_type": "code",
   "execution_count": 5,
   "metadata": {
    "scrolled": false
   },
   "outputs": [
    {
     "name": "stderr",
     "output_type": "stream",
     "text": [
      "/tmp/ipykernel_162/370734079.py:1: SettingWithCopyWarning: \n",
      "A value is trying to be set on a copy of a slice from a DataFrame.\n",
      "Try using .loc[row_indexer,col_indexer] = value instead\n",
      "\n",
      "See the caveats in the documentation: https://pandas.pydata.org/pandas-docs/stable/user_guide/indexing.html#returning-a-view-versus-a-copy\n",
      "  df['content'] = (df['description'] + ' ' +\n"
     ]
    },
    {
     "data": {
      "text/html": [
       "<div>\n",
       "<style scoped>\n",
       "    .dataframe tbody tr th:only-of-type {\n",
       "        vertical-align: middle;\n",
       "    }\n",
       "\n",
       "    .dataframe tbody tr th {\n",
       "        vertical-align: top;\n",
       "    }\n",
       "\n",
       "    .dataframe thead th {\n",
       "        text-align: right;\n",
       "    }\n",
       "</style>\n",
       "<table border=\"1\" class=\"dataframe\">\n",
       "  <thead>\n",
       "    <tr style=\"text-align: right;\">\n",
       "      <th></th>\n",
       "      <th>id</th>\n",
       "      <th>name</th>\n",
       "      <th>description</th>\n",
       "      <th>genre</th>\n",
       "      <th>tags</th>\n",
       "      <th>theme</th>\n",
       "      <th>content</th>\n",
       "    </tr>\n",
       "  </thead>\n",
       "  <tbody>\n",
       "    <tr>\n",
       "      <th>0</th>\n",
       "      <td>741344</td>\n",
       "      <td>Peace Angel</td>\n",
       "      <td>２０２０年度１年生特進クラス 中村 桃香さんの作品です。天使を操作し、悪魔から死者を守りつつ...</td>\n",
       "      <td>Shooter</td>\n",
       "      <td>No Tag</td>\n",
       "      <td>Themeless</td>\n",
       "      <td>２０２０年度１年生特進クラス 中村 桃香さんの作品です。天使を操作し、悪魔から死者を守りつつ...</td>\n",
       "    </tr>\n",
       "    <tr>\n",
       "      <th>1</th>\n",
       "      <td>374441</td>\n",
       "      <td>Brawl Planet</td>\n",
       "      <td>Eres un comandante al mando de la nave inteles...</td>\n",
       "      <td>Shooter</td>\n",
       "      <td>Singleplayer||Space||shotter</td>\n",
       "      <td>Themeless</td>\n",
       "      <td>Eres un comandante al mando de la nave inteles...</td>\n",
       "    </tr>\n",
       "    <tr>\n",
       "      <th>2</th>\n",
       "      <td>97470</td>\n",
       "      <td>OBELUS - Arcade Boss Rush</td>\n",
       "      <td>In OBELUS, a bold robot battles three gargantu...</td>\n",
       "      <td>Action||Platformer||Shooter</td>\n",
       "      <td>2D||Sci-fi||Pixel Graphics||Destruction||Monst...</td>\n",
       "      <td>Sci-Fi</td>\n",
       "      <td>In OBELUS, a bold robot battles three gargantu...</td>\n",
       "    </tr>\n",
       "    <tr>\n",
       "      <th>3</th>\n",
       "      <td>306287</td>\n",
       "      <td>Pimple Popper Lite</td>\n",
       "      <td>Hello, you! We know you're itching for some fi...</td>\n",
       "      <td>Action||Arcade||Casual</td>\n",
       "      <td>friends||fun||scratch</td>\n",
       "      <td>Themeless</td>\n",
       "      <td>Hello, you! We know you're itching for some fi...</td>\n",
       "    </tr>\n",
       "    <tr>\n",
       "      <th>4</th>\n",
       "      <td>176964</td>\n",
       "      <td>SQUARE SQUARE</td>\n",
       "      <td>Left/right arrows - moveUp - restartClick on t...</td>\n",
       "      <td>Action</td>\n",
       "      <td>2D||Score Attack||Black and White</td>\n",
       "      <td>Themeless</td>\n",
       "      <td>Left/right arrows - moveUp - restartClick on t...</td>\n",
       "    </tr>\n",
       "  </tbody>\n",
       "</table>\n",
       "</div>"
      ],
      "text/plain": [
       "       id                       name  \\\n",
       "0  741344                Peace Angel   \n",
       "1  374441               Brawl Planet   \n",
       "2   97470  OBELUS - Arcade Boss Rush   \n",
       "3  306287         Pimple Popper Lite   \n",
       "4  176964              SQUARE SQUARE   \n",
       "\n",
       "                                         description  \\\n",
       "0  ２０２０年度１年生特進クラス 中村 桃香さんの作品です。天使を操作し、悪魔から死者を守りつつ...   \n",
       "1  Eres un comandante al mando de la nave inteles...   \n",
       "2  In OBELUS, a bold robot battles three gargantu...   \n",
       "3  Hello, you! We know you're itching for some fi...   \n",
       "4  Left/right arrows - moveUp - restartClick on t...   \n",
       "\n",
       "                         genre  \\\n",
       "0                      Shooter   \n",
       "1                      Shooter   \n",
       "2  Action||Platformer||Shooter   \n",
       "3       Action||Arcade||Casual   \n",
       "4                       Action   \n",
       "\n",
       "                                                tags      theme  \\\n",
       "0                                             No Tag  Themeless   \n",
       "1                       Singleplayer||Space||shotter  Themeless   \n",
       "2  2D||Sci-fi||Pixel Graphics||Destruction||Monst...     Sci-Fi   \n",
       "3                              friends||fun||scratch  Themeless   \n",
       "4                  2D||Score Attack||Black and White  Themeless   \n",
       "\n",
       "                                             content  \n",
       "0  ２０２０年度１年生特進クラス 中村 桃香さんの作品です。天使を操作し、悪魔から死者を守りつつ...  \n",
       "1  Eres un comandante al mando de la nave inteles...  \n",
       "2  In OBELUS, a bold robot battles three gargantu...  \n",
       "3  Hello, you! We know you're itching for some fi...  \n",
       "4  Left/right arrows - moveUp - restartClick on t...  "
      ]
     },
     "execution_count": 5,
     "metadata": {},
     "output_type": "execute_result"
    }
   ],
   "source": [
    "df['content'] = (df['description'] + ' ' + \n",
    "                (df['genre'].str.replace('||', ' ', regex=True) + ' ') * 6 + \n",
    "                 df['tags'].str.replace('||', ' ', regex=True) + ' ' + \n",
    "                (df['theme'].str.replace('||', ' ', regex=True) + ' ') * 4)\n",
    "df.head()"
   ]
  },
  {
   "cell_type": "markdown",
   "metadata": {},
   "source": [
    "## 텍스트 벡터화"
   ]
  },
  {
   "cell_type": "markdown",
   "metadata": {},
   "source": [
    "### TF-IDF 벡터라이저 초기화"
   ]
  },
  {
   "cell_type": "code",
   "execution_count": 6,
   "metadata": {},
   "outputs": [
    {
     "data": {
      "text/plain": [
       "TfidfVectorizer(stop_words='english')"
      ]
     },
     "execution_count": 6,
     "metadata": {},
     "output_type": "execute_result"
    }
   ],
   "source": [
    "# tfidf = TfidfVectorizer(stop_words='english', max_features=10000)  # 최대 피처 수 제한\n",
    "tfidf = TfidfVectorizer(stop_words='english')\n",
    "tfidf"
   ]
  },
  {
   "cell_type": "markdown",
   "metadata": {},
   "source": [
    "### content 컬럼을 TF-IDF 행렬로 변환"
   ]
  },
  {
   "cell_type": "code",
   "execution_count": 8,
   "metadata": {
    "scrolled": true
   },
   "outputs": [
    {
     "data": {
      "text/plain": [
       "<529715x985788 sparse matrix of type '<class 'numpy.float64'>'\n",
       "\twith 23053848 stored elements in Compressed Sparse Row format>"
      ]
     },
     "execution_count": 8,
     "metadata": {},
     "output_type": "execute_result"
    }
   ],
   "source": [
    "tfidf_matrix = tfidf.fit_transform(df['content'])\n",
    "tfidf_matrix"
   ]
  },
  {
   "cell_type": "code",
   "execution_count": 18,
   "metadata": {},
   "outputs": [
    {
     "data": {
      "text/plain": [
       "(529715, 985788)"
      ]
     },
     "execution_count": 18,
     "metadata": {},
     "output_type": "execute_result"
    }
   ],
   "source": [
    "tfidf_matrix.shape"
   ]
  },
  {
   "cell_type": "markdown",
   "metadata": {},
   "source": [
    "### 차원 축소 기법"
   ]
  },
  {
   "cell_type": "code",
   "execution_count": 9,
   "metadata": {},
   "outputs": [
    {
     "name": "stdout",
     "output_type": "stream",
     "text": [
      "(529715, 100)\n"
     ]
    }
   ],
   "source": [
    "# Truncated SVD를 사용하여 차원 축소\n",
    "svd = TruncatedSVD(n_components=100)\n",
    "tfidf_matrix_reduced = svd.fit_transform(tfidf_matrix)\n",
    "\n",
    "# 차원 축소된 TF-IDF 행렬의 크기 확인\n",
    "print(tfidf_matrix_reduced.shape)"
   ]
  },
  {
   "cell_type": "markdown",
   "metadata": {},
   "source": [
    "## 유사도 계산"
   ]
  },
  {
   "cell_type": "markdown",
   "metadata": {},
   "source": [
    "### Annoy를 사용한 유사도 검색"
   ]
  },
  {
   "cell_type": "code",
   "execution_count": 10,
   "metadata": {},
   "outputs": [
    {
     "data": {
      "text/plain": [
       "True"
      ]
     },
     "execution_count": 10,
     "metadata": {},
     "output_type": "execute_result"
    }
   ],
   "source": [
    "# Annoy 인덱스 생성\n",
    "annoy_index = AnnoyIndex(100, 'angular')\n",
    "\n",
    "# Annoy 인덱스에 아이템 추가\n",
    "for i in range(tfidf_matrix_reduced.shape[0]):\n",
    "    annoy_index.add_item(i, tfidf_matrix_reduced[i])\n",
    "\n",
    "# Annoy 인덱스 빌드\n",
    "annoy_index.build(400)  # 트리 개수"
   ]
  },
  {
   "cell_type": "markdown",
   "metadata": {},
   "source": [
    "## 특정 게임의 인덱스 가져오기"
   ]
  },
  {
   "cell_type": "code",
   "execution_count": 11,
   "metadata": {},
   "outputs": [],
   "source": [
    "def get_similar_games(game_title, num_recommendations=10):\n",
    "    if game_title not in df['name'].values:\n",
    "        return \"Game not found in dataset.\"\n",
    "    \n",
    "    # 특정 게임의 인덱스 가져오기\n",
    "    idx = df.index[df['name'] == game_title].tolist()[0]\n",
    "    \n",
    "    # 해당 게임과 유사한 게임 인덱스 및 거리 계산\n",
    "    similar_games, distances = annoy_index.get_nns_by_item(idx, num_recommendations + 1, include_distances=True)\n",
    "    \n",
    "    # 유사한 게임 인덱스 추출 (자기 자신 제외)\n",
    "    similar_games = similar_games[1:]\n",
    "    distances = distances[1:]\n",
    "    \n",
    "    # 유사한 게임 정보 추출\n",
    "    similar_games_info = df[['name', 'genre', 'theme']].iloc[similar_games]\n",
    "    similar_games_info['distance'] = distances\n",
    "    \n",
    "    return similar_games_info"
   ]
  },
  {
   "cell_type": "code",
   "execution_count": 12,
   "metadata": {
    "scrolled": false
   },
   "outputs": [
    {
     "data": {
      "text/html": [
       "<div>\n",
       "<style scoped>\n",
       "    .dataframe tbody tr th:only-of-type {\n",
       "        vertical-align: middle;\n",
       "    }\n",
       "\n",
       "    .dataframe tbody tr th {\n",
       "        vertical-align: top;\n",
       "    }\n",
       "\n",
       "    .dataframe thead th {\n",
       "        text-align: right;\n",
       "    }\n",
       "</style>\n",
       "<table border=\"1\" class=\"dataframe\">\n",
       "  <thead>\n",
       "    <tr style=\"text-align: right;\">\n",
       "      <th></th>\n",
       "      <th>name</th>\n",
       "      <th>genre</th>\n",
       "      <th>theme</th>\n",
       "    </tr>\n",
       "  </thead>\n",
       "  <tbody>\n",
       "    <tr>\n",
       "      <th>3</th>\n",
       "      <td>Pimple Popper Lite</td>\n",
       "      <td>Action||Arcade||Casual</td>\n",
       "      <td>Themeless</td>\n",
       "    </tr>\n",
       "  </tbody>\n",
       "</table>\n",
       "</div>"
      ],
      "text/plain": [
       "                 name                   genre      theme\n",
       "3  Pimple Popper Lite  Action||Arcade||Casual  Themeless"
      ]
     },
     "execution_count": 12,
     "metadata": {},
     "output_type": "execute_result"
    }
   ],
   "source": [
    "df[df['name'] == 'Pimple Popper Lite'][['name', 'genre', 'theme']]"
   ]
  },
  {
   "cell_type": "code",
   "execution_count": 13,
   "metadata": {
    "scrolled": true
   },
   "outputs": [
    {
     "data": {
      "text/html": [
       "<div>\n",
       "<style scoped>\n",
       "    .dataframe tbody tr th:only-of-type {\n",
       "        vertical-align: middle;\n",
       "    }\n",
       "\n",
       "    .dataframe tbody tr th {\n",
       "        vertical-align: top;\n",
       "    }\n",
       "\n",
       "    .dataframe thead th {\n",
       "        text-align: right;\n",
       "    }\n",
       "</style>\n",
       "<table border=\"1\" class=\"dataframe\">\n",
       "  <thead>\n",
       "    <tr style=\"text-align: right;\">\n",
       "      <th></th>\n",
       "      <th>name</th>\n",
       "      <th>genre</th>\n",
       "      <th>theme</th>\n",
       "      <th>distance</th>\n",
       "    </tr>\n",
       "  </thead>\n",
       "  <tbody>\n",
       "    <tr>\n",
       "      <th>429775</th>\n",
       "      <td>Pimple Popper</td>\n",
       "      <td>Action||Arcade||Casual||Simulation</td>\n",
       "      <td>Themeless</td>\n",
       "      <td>0.144138</td>\n",
       "    </tr>\n",
       "    <tr>\n",
       "      <th>268374</th>\n",
       "      <td>Ragdoll Blaster 3</td>\n",
       "      <td>Physics||Puzzle||Simulation</td>\n",
       "      <td>Themeless</td>\n",
       "      <td>0.698746</td>\n",
       "    </tr>\n",
       "    <tr>\n",
       "      <th>51439</th>\n",
       "      <td>iQuarters</td>\n",
       "      <td>Arcade||Physics||Sports</td>\n",
       "      <td>Themeless</td>\n",
       "      <td>0.711226</td>\n",
       "    </tr>\n",
       "    <tr>\n",
       "      <th>241514</th>\n",
       "      <td>Sweet Candies 2 - Huge Match 3</td>\n",
       "      <td>Board||Puzzle</td>\n",
       "      <td>Themeless</td>\n",
       "      <td>0.733473</td>\n",
       "    </tr>\n",
       "    <tr>\n",
       "      <th>189524</th>\n",
       "      <td>Sweet Candies 2: Match 3 Games</td>\n",
       "      <td>Board||Puzzle</td>\n",
       "      <td>Action||Comedy</td>\n",
       "      <td>0.733474</td>\n",
       "    </tr>\n",
       "    <tr>\n",
       "      <th>219</th>\n",
       "      <td>Zero Fun - Number Action</td>\n",
       "      <td>Arcade||Casual||Puzzle</td>\n",
       "      <td>Themeless</td>\n",
       "      <td>0.736202</td>\n",
       "    </tr>\n",
       "    <tr>\n",
       "      <th>394602</th>\n",
       "      <td>SIKE! Bank Shot Basketball</td>\n",
       "      <td>Arcade||Casual||Sports</td>\n",
       "      <td>Themeless</td>\n",
       "      <td>0.737610</td>\n",
       "    </tr>\n",
       "    <tr>\n",
       "      <th>20929</th>\n",
       "      <td>Angry Birds Match</td>\n",
       "      <td>Party||Puzzle</td>\n",
       "      <td>Themeless</td>\n",
       "      <td>0.739151</td>\n",
       "    </tr>\n",
       "    <tr>\n",
       "      <th>408818</th>\n",
       "      <td>Kids &amp; Play Cars, Trucks, Emergency &amp; Construc...</td>\n",
       "      <td>Family</td>\n",
       "      <td>Themeless</td>\n",
       "      <td>0.741633</td>\n",
       "    </tr>\n",
       "    <tr>\n",
       "      <th>493158</th>\n",
       "      <td>Ski Girl Superstar</td>\n",
       "      <td>Adventure||Party||RPG</td>\n",
       "      <td>Music||Sci-Fi</td>\n",
       "      <td>0.743374</td>\n",
       "    </tr>\n",
       "  </tbody>\n",
       "</table>\n",
       "</div>"
      ],
      "text/plain": [
       "                                                     name  \\\n",
       "429775                                      Pimple Popper   \n",
       "268374                                  Ragdoll Blaster 3   \n",
       "51439                                           iQuarters   \n",
       "241514                     Sweet Candies 2 - Huge Match 3   \n",
       "189524                     Sweet Candies 2: Match 3 Games   \n",
       "219                              Zero Fun - Number Action   \n",
       "394602                         SIKE! Bank Shot Basketball   \n",
       "20929                                   Angry Birds Match   \n",
       "408818  Kids & Play Cars, Trucks, Emergency & Construc...   \n",
       "493158                                 Ski Girl Superstar   \n",
       "\n",
       "                                     genre           theme  distance  \n",
       "429775  Action||Arcade||Casual||Simulation       Themeless  0.144138  \n",
       "268374         Physics||Puzzle||Simulation       Themeless  0.698746  \n",
       "51439              Arcade||Physics||Sports       Themeless  0.711226  \n",
       "241514                       Board||Puzzle       Themeless  0.733473  \n",
       "189524                       Board||Puzzle  Action||Comedy  0.733474  \n",
       "219                 Arcade||Casual||Puzzle       Themeless  0.736202  \n",
       "394602              Arcade||Casual||Sports       Themeless  0.737610  \n",
       "20929                        Party||Puzzle       Themeless  0.739151  \n",
       "408818                              Family       Themeless  0.741633  \n",
       "493158               Adventure||Party||RPG   Music||Sci-Fi  0.743374  "
      ]
     },
     "execution_count": 13,
     "metadata": {},
     "output_type": "execute_result"
    }
   ],
   "source": [
    "get_similar_games('Pimple Popper Lite', 10)"
   ]
  },
  {
   "cell_type": "code",
   "execution_count": 14,
   "metadata": {},
   "outputs": [
    {
     "data": {
      "text/html": [
       "<div>\n",
       "<style scoped>\n",
       "    .dataframe tbody tr th:only-of-type {\n",
       "        vertical-align: middle;\n",
       "    }\n",
       "\n",
       "    .dataframe tbody tr th {\n",
       "        vertical-align: top;\n",
       "    }\n",
       "\n",
       "    .dataframe thead th {\n",
       "        text-align: right;\n",
       "    }\n",
       "</style>\n",
       "<table border=\"1\" class=\"dataframe\">\n",
       "  <thead>\n",
       "    <tr style=\"text-align: right;\">\n",
       "      <th></th>\n",
       "      <th>name</th>\n",
       "      <th>genre</th>\n",
       "      <th>theme</th>\n",
       "    </tr>\n",
       "  </thead>\n",
       "  <tbody>\n",
       "    <tr>\n",
       "      <th>2</th>\n",
       "      <td>OBELUS - Arcade Boss Rush</td>\n",
       "      <td>Action||Platformer||Shooter</td>\n",
       "      <td>Sci-Fi</td>\n",
       "    </tr>\n",
       "  </tbody>\n",
       "</table>\n",
       "</div>"
      ],
      "text/plain": [
       "                        name                        genre   theme\n",
       "2  OBELUS - Arcade Boss Rush  Action||Platformer||Shooter  Sci-Fi"
      ]
     },
     "execution_count": 14,
     "metadata": {},
     "output_type": "execute_result"
    }
   ],
   "source": [
    "df[df['name'] == 'OBELUS - Arcade Boss Rush'][['name', 'genre', 'theme']]"
   ]
  },
  {
   "cell_type": "code",
   "execution_count": 15,
   "metadata": {
    "scrolled": false
   },
   "outputs": [
    {
     "data": {
      "text/html": [
       "<div>\n",
       "<style scoped>\n",
       "    .dataframe tbody tr th:only-of-type {\n",
       "        vertical-align: middle;\n",
       "    }\n",
       "\n",
       "    .dataframe tbody tr th {\n",
       "        vertical-align: top;\n",
       "    }\n",
       "\n",
       "    .dataframe thead th {\n",
       "        text-align: right;\n",
       "    }\n",
       "</style>\n",
       "<table border=\"1\" class=\"dataframe\">\n",
       "  <thead>\n",
       "    <tr style=\"text-align: right;\">\n",
       "      <th></th>\n",
       "      <th>name</th>\n",
       "      <th>genre</th>\n",
       "      <th>theme</th>\n",
       "      <th>distance</th>\n",
       "    </tr>\n",
       "  </thead>\n",
       "  <tbody>\n",
       "    <tr>\n",
       "      <th>63169</th>\n",
       "      <td>Metro Boy in Development</td>\n",
       "      <td>Action||Adventure||Horror</td>\n",
       "      <td>Themeless</td>\n",
       "      <td>0.782686</td>\n",
       "    </tr>\n",
       "    <tr>\n",
       "      <th>71418</th>\n",
       "      <td>Bombjack</td>\n",
       "      <td>Platformer</td>\n",
       "      <td>Themeless</td>\n",
       "      <td>0.790276</td>\n",
       "    </tr>\n",
       "    <tr>\n",
       "      <th>406625</th>\n",
       "      <td>DeepMine</td>\n",
       "      <td>Metroidvania||Platformer||Shooter</td>\n",
       "      <td>Themeless</td>\n",
       "      <td>0.810871</td>\n",
       "    </tr>\n",
       "    <tr>\n",
       "      <th>513526</th>\n",
       "      <td>Back to Nature (Rajcsányi László (WLS))</td>\n",
       "      <td>Action</td>\n",
       "      <td>Themeless</td>\n",
       "      <td>0.837814</td>\n",
       "    </tr>\n",
       "    <tr>\n",
       "      <th>423469</th>\n",
       "      <td>Core &amp; Crust</td>\n",
       "      <td>Platformer</td>\n",
       "      <td>Horror</td>\n",
       "      <td>0.840908</td>\n",
       "    </tr>\n",
       "    <tr>\n",
       "      <th>298844</th>\n",
       "      <td>Tiki Quest</td>\n",
       "      <td>Action||Platformer</td>\n",
       "      <td>Sandbox</td>\n",
       "      <td>0.846832</td>\n",
       "    </tr>\n",
       "    <tr>\n",
       "      <th>520995</th>\n",
       "      <td>Flappy Beer (L_C_S)</td>\n",
       "      <td>Platformer</td>\n",
       "      <td>Themeless</td>\n",
       "      <td>0.846871</td>\n",
       "    </tr>\n",
       "    <tr>\n",
       "      <th>274239</th>\n",
       "      <td>Johnnie's Space Adventure</td>\n",
       "      <td>Platformer</td>\n",
       "      <td>Themeless</td>\n",
       "      <td>0.846998</td>\n",
       "    </tr>\n",
       "    <tr>\n",
       "      <th>150244</th>\n",
       "      <td>The Fantastic Gobling</td>\n",
       "      <td>Misc</td>\n",
       "      <td>Themeless</td>\n",
       "      <td>0.847871</td>\n",
       "    </tr>\n",
       "    <tr>\n",
       "      <th>273410</th>\n",
       "      <td>Fake Lethal League</td>\n",
       "      <td>Fighting</td>\n",
       "      <td>Themeless</td>\n",
       "      <td>0.848280</td>\n",
       "    </tr>\n",
       "  </tbody>\n",
       "</table>\n",
       "</div>"
      ],
      "text/plain": [
       "                                           name  \\\n",
       "63169                  Metro Boy in Development   \n",
       "71418                                  Bombjack   \n",
       "406625                                 DeepMine   \n",
       "513526  Back to Nature (Rajcsányi László (WLS))   \n",
       "423469                             Core & Crust   \n",
       "298844                               Tiki Quest   \n",
       "520995                      Flappy Beer (L_C_S)   \n",
       "274239                Johnnie's Space Adventure   \n",
       "150244                    The Fantastic Gobling   \n",
       "273410                       Fake Lethal League   \n",
       "\n",
       "                                    genre      theme  distance  \n",
       "63169           Action||Adventure||Horror  Themeless  0.782686  \n",
       "71418                          Platformer  Themeless  0.790276  \n",
       "406625  Metroidvania||Platformer||Shooter  Themeless  0.810871  \n",
       "513526                             Action  Themeless  0.837814  \n",
       "423469                         Platformer     Horror  0.840908  \n",
       "298844                 Action||Platformer    Sandbox  0.846832  \n",
       "520995                         Platformer  Themeless  0.846871  \n",
       "274239                         Platformer  Themeless  0.846998  \n",
       "150244                               Misc  Themeless  0.847871  \n",
       "273410                           Fighting  Themeless  0.848280  "
      ]
     },
     "execution_count": 15,
     "metadata": {},
     "output_type": "execute_result"
    }
   ],
   "source": [
    "get_similar_games('OBELUS - Arcade Boss Rush', 10)"
   ]
  },
  {
   "cell_type": "code",
   "execution_count": 16,
   "metadata": {},
   "outputs": [
    {
     "data": {
      "text/html": [
       "<div>\n",
       "<style scoped>\n",
       "    .dataframe tbody tr th:only-of-type {\n",
       "        vertical-align: middle;\n",
       "    }\n",
       "\n",
       "    .dataframe tbody tr th {\n",
       "        vertical-align: top;\n",
       "    }\n",
       "\n",
       "    .dataframe thead th {\n",
       "        text-align: right;\n",
       "    }\n",
       "</style>\n",
       "<table border=\"1\" class=\"dataframe\">\n",
       "  <thead>\n",
       "    <tr style=\"text-align: right;\">\n",
       "      <th></th>\n",
       "      <th>name</th>\n",
       "      <th>genre</th>\n",
       "      <th>theme</th>\n",
       "    </tr>\n",
       "  </thead>\n",
       "  <tbody>\n",
       "    <tr>\n",
       "      <th>529711</th>\n",
       "      <td>Monster Hunter 4</td>\n",
       "      <td>Action||RPG</td>\n",
       "      <td>Themeless</td>\n",
       "    </tr>\n",
       "  </tbody>\n",
       "</table>\n",
       "</div>"
      ],
      "text/plain": [
       "                    name        genre      theme\n",
       "529711  Monster Hunter 4  Action||RPG  Themeless"
      ]
     },
     "execution_count": 16,
     "metadata": {},
     "output_type": "execute_result"
    }
   ],
   "source": [
    "df[df['name'] == 'Monster Hunter 4'][['name', 'genre', 'theme']]"
   ]
  },
  {
   "cell_type": "code",
   "execution_count": 17,
   "metadata": {
    "scrolled": true
   },
   "outputs": [
    {
     "data": {
      "text/html": [
       "<div>\n",
       "<style scoped>\n",
       "    .dataframe tbody tr th:only-of-type {\n",
       "        vertical-align: middle;\n",
       "    }\n",
       "\n",
       "    .dataframe tbody tr th {\n",
       "        vertical-align: top;\n",
       "    }\n",
       "\n",
       "    .dataframe thead th {\n",
       "        text-align: right;\n",
       "    }\n",
       "</style>\n",
       "<table border=\"1\" class=\"dataframe\">\n",
       "  <thead>\n",
       "    <tr style=\"text-align: right;\">\n",
       "      <th></th>\n",
       "      <th>name</th>\n",
       "      <th>genre</th>\n",
       "      <th>theme</th>\n",
       "      <th>distance</th>\n",
       "    </tr>\n",
       "  </thead>\n",
       "  <tbody>\n",
       "    <tr>\n",
       "      <th>90</th>\n",
       "      <td>Doom Souls</td>\n",
       "      <td>Misc</td>\n",
       "      <td>Themeless</td>\n",
       "      <td>0.0</td>\n",
       "    </tr>\n",
       "    <tr>\n",
       "      <th>338</th>\n",
       "      <td>The Power of Northeser Ocean</td>\n",
       "      <td>Misc</td>\n",
       "      <td>Themeless</td>\n",
       "      <td>0.0</td>\n",
       "    </tr>\n",
       "    <tr>\n",
       "      <th>347</th>\n",
       "      <td>Pferd &amp; Pony: Lass uns reiten 2</td>\n",
       "      <td>Sports</td>\n",
       "      <td>Themeless</td>\n",
       "      <td>0.0</td>\n",
       "    </tr>\n",
       "    <tr>\n",
       "      <th>517</th>\n",
       "      <td>Universal Combat: A World Apart</td>\n",
       "      <td>Action||Shooter||Simulation</td>\n",
       "      <td>Themeless</td>\n",
       "      <td>0.0</td>\n",
       "    </tr>\n",
       "    <tr>\n",
       "      <th>663</th>\n",
       "      <td>World War II Panzer Claws 2</td>\n",
       "      <td>Strategy</td>\n",
       "      <td>Themeless</td>\n",
       "      <td>0.0</td>\n",
       "    </tr>\n",
       "    <tr>\n",
       "      <th>683</th>\n",
       "      <td>Sheech</td>\n",
       "      <td>Misc</td>\n",
       "      <td>Themeless</td>\n",
       "      <td>0.0</td>\n",
       "    </tr>\n",
       "    <tr>\n",
       "      <th>744</th>\n",
       "      <td>Elemental Robotics - WebGL</td>\n",
       "      <td>Platformer</td>\n",
       "      <td>Themeless</td>\n",
       "      <td>0.0</td>\n",
       "    </tr>\n",
       "    <tr>\n",
       "      <th>762</th>\n",
       "      <td>l'Abbaye des Morts</td>\n",
       "      <td>Action||Arcade</td>\n",
       "      <td>Themeless</td>\n",
       "      <td>0.0</td>\n",
       "    </tr>\n",
       "    <tr>\n",
       "      <th>977</th>\n",
       "      <td>AFROMAN wonder brother bounce</td>\n",
       "      <td>Misc</td>\n",
       "      <td>Themeless</td>\n",
       "      <td>0.0</td>\n",
       "    </tr>\n",
       "    <tr>\n",
       "      <th>1021</th>\n",
       "      <td>Accelerate (Emilio01)</td>\n",
       "      <td>Misc</td>\n",
       "      <td>Themeless</td>\n",
       "      <td>0.0</td>\n",
       "    </tr>\n",
       "  </tbody>\n",
       "</table>\n",
       "</div>"
      ],
      "text/plain": [
       "                                 name                        genre      theme  \\\n",
       "90                         Doom Souls                         Misc  Themeless   \n",
       "338      The Power of Northeser Ocean                         Misc  Themeless   \n",
       "347   Pferd & Pony: Lass uns reiten 2                       Sports  Themeless   \n",
       "517   Universal Combat: A World Apart  Action||Shooter||Simulation  Themeless   \n",
       "663       World War II Panzer Claws 2                     Strategy  Themeless   \n",
       "683                            Sheech                         Misc  Themeless   \n",
       "744        Elemental Robotics - WebGL                   Platformer  Themeless   \n",
       "762                l'Abbaye des Morts               Action||Arcade  Themeless   \n",
       "977     AFROMAN wonder brother bounce                         Misc  Themeless   \n",
       "1021            Accelerate (Emilio01)                         Misc  Themeless   \n",
       "\n",
       "      distance  \n",
       "90         0.0  \n",
       "338        0.0  \n",
       "347        0.0  \n",
       "517        0.0  \n",
       "663        0.0  \n",
       "683        0.0  \n",
       "744        0.0  \n",
       "762        0.0  \n",
       "977        0.0  \n",
       "1021       0.0  "
      ]
     },
     "execution_count": 17,
     "metadata": {},
     "output_type": "execute_result"
    }
   ],
   "source": [
    "get_similar_games('Monster Hunter 4', 10)"
   ]
  },
  {
   "cell_type": "code",
   "execution_count": null,
   "metadata": {},
   "outputs": [],
   "source": [
    "# 전체 데이터셋의 평균 유사도 거리 계산 함수\n",
    "def calculate_average_similarity(num_samples=100, num_recommendations=10):\n",
    "    sample_games = np.random.choice(df['name'], num_samples, replace=False)\n",
    "    total_distance = 0\n",
    "    total_recommendations = 0\n",
    "    \n",
    "    for game in sample_games:\n",
    "        recommendations = get_similar_games(game, num_recommendations)\n",
    "        if isinstance(recommendations, pd.DataFrame):\n",
    "            total_distance += recommendations['distance'].sum()\n",
    "            total_recommendations += len(recommendations)\n",
    "    \n",
    "    average_distance = total_distance / total_recommendations\n",
    "    return average_distance\n",
    "\n",
    "# 평균 유사도 거리 계산 및 출력\n",
    "average_similarity_distance = calculate_average_similarity(num_samples=100, num_recommendations=10)\n",
    "print(f'Average Similarity Distance: {average_similarity_distance}')"
   ]
  },
  {
   "cell_type": "markdown",
   "metadata": {},
   "source": [
    "### 해당 게임과 유사한 게임 인덱스 및 거리 계산"
   ]
  },
  {
   "cell_type": "code",
   "execution_count": 16,
   "metadata": {},
   "outputs": [],
   "source": [
    "# 예: 'Brawl Planet', 'Pimple Popper Lite'\n",
    "game_title = 'Monster Hunter 4'\n",
    "idx = df.index[df['name'] == game_title].tolist()[0]"
   ]
  },
  {
   "cell_type": "code",
   "execution_count": 17,
   "metadata": {},
   "outputs": [
    {
     "name": "stdout",
     "output_type": "stream",
     "text": [
      "142            Extinguish the dinosaurs\n",
      "205              Sudoku Ball: Detective\n",
      "289              Sisyphus: Salmon Run !\n",
      "548              Corel Wild Board Games\n",
      "579                 Bicycle Board Games\n",
      "652     Rock Paper Scissors Tic Tac Toe\n",
      "787      Aliens: A Comic Book Adventure\n",
      "909              High effort vexon pack\n",
      "1309                         PlayerPush\n",
      "Name: name, dtype: object\n"
     ]
    }
   ],
   "source": [
    "similar_games, distances = annoy_index.get_nns_by_item(idx, 10, include_distances=True)\n",
    "\n",
    "# 유사한 게임 인덱스 추출 (자기 자신 제외)\n",
    "similar_games = similar_games[1:]\n",
    "\n",
    "# 유사한 게임 이름 반환\n",
    "similar_game_names = df['name'].iloc[similar_games]\n",
    "print(similar_game_names)"
   ]
  },
  {
   "cell_type": "code",
   "execution_count": null,
   "metadata": {},
   "outputs": [],
   "source": []
  }
 ],
 "metadata": {
  "kernelspec": {
   "display_name": "Python 3 (ipykernel)",
   "language": "python",
   "name": "python3"
  },
  "language_info": {
   "codemirror_mode": {
    "name": "ipython",
    "version": 3
   },
   "file_extension": ".py",
   "mimetype": "text/x-python",
   "name": "python",
   "nbconvert_exporter": "python",
   "pygments_lexer": "ipython3",
   "version": "3.9.7"
  }
 },
 "nbformat": 4,
 "nbformat_minor": 2
}
